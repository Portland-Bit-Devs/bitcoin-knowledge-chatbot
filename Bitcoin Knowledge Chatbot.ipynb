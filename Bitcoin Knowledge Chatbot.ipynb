{
 "cells": [
  {
   "cell_type": "markdown",
   "id": "a6337c0b",
   "metadata": {},
   "source": [
    "# Bitcoin Knowledge Chatbot w/ LlamaIndex\n",
    "By Jon Austen"
   ]
  },
  {
   "cell_type": "markdown",
   "id": "a8911e71",
   "metadata": {},
   "source": [
    "Examples:\n",
    "- https://gita.kishans.in/\n",
    "- https://www.chatpdf.com/\n",
    "- https://gpt-index.readthedocs.io/en/latest/how_to/customization/custom_llms.html"
   ]
  },
  {
   "cell_type": "code",
   "execution_count": 2,
   "id": "c425f155",
   "metadata": {
    "collapsed": true,
    "jupyter": {
     "outputs_hidden": true
    },
    "tags": []
   },
   "outputs": [
    {
     "name": "stdout",
     "output_type": "stream",
     "text": [
      "Requirement already satisfied: llama_index in c:\\python38\\lib\\site-packages (0.5.5)\n",
      "Requirement already satisfied: pandas in c:\\python38\\lib\\site-packages (from llama_index) (1.5.3)\n",
      "Requirement already satisfied: dataclasses-json in c:\\python38\\lib\\site-packages (from llama_index) (0.5.7)\n",
      "Requirement already satisfied: langchain in c:\\python38\\lib\\site-packages (from llama_index) (0.0.129)\n",
      "Requirement already satisfied: transformers in c:\\python38\\lib\\site-packages (from llama_index) (4.27.4)\n",
      "Requirement already satisfied: tenacity<9.0.0,>=8.2.0 in c:\\python38\\lib\\site-packages (from llama_index) (8.2.2)\n",
      "Requirement already satisfied: openai>=0.26.4 in c:\\python38\\lib\\site-packages (from llama_index) (0.27.2)\n",
      "Requirement already satisfied: numpy in c:\\python38\\lib\\site-packages (from llama_index) (1.24.2)\n",
      "Requirement already satisfied: aiohttp in c:\\python38\\lib\\site-packages (from openai>=0.26.4->llama_index) (3.8.4)\n",
      "Requirement already satisfied: tqdm in c:\\python38\\lib\\site-packages (from openai>=0.26.4->llama_index) (4.65.0)\n",
      "Requirement already satisfied: requests>=2.20 in c:\\python38\\lib\\site-packages (from openai>=0.26.4->llama_index) (2.28.2)\n",
      "Requirement already satisfied: marshmallow-enum<2.0.0,>=1.5.1 in c:\\python38\\lib\\site-packages (from dataclasses-json->llama_index) (1.5.1)\n",
      "Requirement already satisfied: marshmallow<4.0.0,>=3.3.0 in c:\\python38\\lib\\site-packages (from dataclasses-json->llama_index) (3.19.0)\n",
      "Requirement already satisfied: typing-inspect>=0.4.0 in c:\\python38\\lib\\site-packages (from dataclasses-json->llama_index) (0.8.0)\n",
      "Requirement already satisfied: SQLAlchemy<2,>=1 in c:\\python38\\lib\\site-packages (from langchain->llama_index) (1.4.47)\n",
      "Requirement already satisfied: PyYAML>=5.4.1 in c:\\python38\\lib\\site-packages (from langchain->llama_index) (6.0)\n",
      "Requirement already satisfied: pydantic<2,>=1 in c:\\python38\\lib\\site-packages (from langchain->llama_index) (1.10.7)\n",
      "Requirement already satisfied: pytz>=2020.1 in c:\\python38\\lib\\site-packages (from pandas->llama_index) (2023.3)\n",
      "Requirement already satisfied: python-dateutil>=2.8.1 in c:\\python38\\lib\\site-packages (from pandas->llama_index) (2.8.2)\n",
      "Requirement already satisfied: huggingface-hub<1.0,>=0.11.0 in c:\\python38\\lib\\site-packages (from transformers->llama_index) (0.13.3)\n",
      "Requirement already satisfied: tokenizers!=0.11.3,<0.14,>=0.11.1 in c:\\python38\\lib\\site-packages (from transformers->llama_index) (0.13.2)\n",
      "Requirement already satisfied: filelock in c:\\python38\\lib\\site-packages (from transformers->llama_index) (3.0.12)\n",
      "Requirement already satisfied: regex!=2019.12.17 in c:\\python38\\lib\\site-packages (from transformers->llama_index) (2023.3.23)\n",
      "Requirement already satisfied: packaging>=20.0 in c:\\python38\\lib\\site-packages (from transformers->llama_index) (23.0)\n",
      "Requirement already satisfied: yarl<2.0,>=1.0 in c:\\python38\\lib\\site-packages (from aiohttp->openai>=0.26.4->llama_index) (1.8.2)\n",
      "Requirement already satisfied: attrs>=17.3.0 in c:\\python38\\lib\\site-packages (from aiohttp->openai>=0.26.4->llama_index) (22.2.0)\n",
      "Requirement already satisfied: async-timeout<5.0,>=4.0.0a3 in c:\\python38\\lib\\site-packages (from aiohttp->openai>=0.26.4->llama_index) (4.0.2)\n",
      "Requirement already satisfied: charset-normalizer<4.0,>=2.0 in c:\\python38\\lib\\site-packages (from aiohttp->openai>=0.26.4->llama_index) (3.1.0)\n",
      "Requirement already satisfied: frozenlist>=1.1.1 in c:\\python38\\lib\\site-packages (from aiohttp->openai>=0.26.4->llama_index) (1.3.3)\n",
      "Requirement already satisfied: aiosignal>=1.1.2 in c:\\python38\\lib\\site-packages (from aiohttp->openai>=0.26.4->llama_index) (1.3.1)\n",
      "Requirement already satisfied: multidict<7.0,>=4.5 in c:\\python38\\lib\\site-packages (from aiohttp->openai>=0.26.4->llama_index) (6.0.4)\n",
      "Requirement already satisfied: typing-extensions>=3.7.4.3 in c:\\python38\\lib\\site-packages (from huggingface-hub<1.0,>=0.11.0->transformers->llama_index) (4.5.0)\n",
      "Requirement already satisfied: six>=1.5 in c:\\python38\\lib\\site-packages (from python-dateutil>=2.8.1->pandas->llama_index) (1.15.0)\n",
      "Requirement already satisfied: urllib3<1.27,>=1.21.1 in c:\\python38\\lib\\site-packages (from requests>=2.20->openai>=0.26.4->llama_index) (1.26.15)\n",
      "Requirement already satisfied: certifi>=2017.4.17 in c:\\python38\\lib\\site-packages (from requests>=2.20->openai>=0.26.4->llama_index) (2022.12.7)\n",
      "Requirement already satisfied: idna<4,>=2.5 in c:\\python38\\lib\\site-packages (from requests>=2.20->openai>=0.26.4->llama_index) (3.4)\n",
      "Requirement already satisfied: greenlet!=0.4.17 in c:\\python38\\lib\\site-packages (from SQLAlchemy<2,>=1->langchain->llama_index) (2.0.2)\n",
      "Requirement already satisfied: colorama in c:\\python38\\lib\\site-packages (from tqdm->openai>=0.26.4->llama_index) (0.4.6)\n",
      "Requirement already satisfied: mypy-extensions>=0.3.0 in c:\\python38\\lib\\site-packages (from typing-inspect>=0.4.0->dataclasses-json->llama_index) (1.0.0)\n",
      "Requirement already satisfied: langchain in c:\\python38\\lib\\site-packages (0.0.129)\n",
      "Requirement already satisfied: aiohttp<4.0.0,>=3.8.3 in c:\\python38\\lib\\site-packages (from langchain) (3.8.4)\n",
      "Requirement already satisfied: tenacity<9.0.0,>=8.1.0 in c:\\python38\\lib\\site-packages (from langchain) (8.2.2)\n",
      "Requirement already satisfied: SQLAlchemy<2,>=1 in c:\\python38\\lib\\site-packages (from langchain) (1.4.47)\n",
      "Requirement already satisfied: requests<3,>=2 in c:\\python38\\lib\\site-packages (from langchain) (2.28.2)\n",
      "Requirement already satisfied: pydantic<2,>=1 in c:\\python38\\lib\\site-packages (from langchain) (1.10.7)\n",
      "Requirement already satisfied: numpy<2,>=1 in c:\\python38\\lib\\site-packages (from langchain) (1.24.2)\n",
      "Requirement already satisfied: PyYAML>=5.4.1 in c:\\python38\\lib\\site-packages (from langchain) (6.0)\n",
      "Requirement already satisfied: dataclasses-json<0.6.0,>=0.5.7 in c:\\python38\\lib\\site-packages (from langchain) (0.5.7)\n",
      "Requirement already satisfied: frozenlist>=1.1.1 in c:\\python38\\lib\\site-packages (from aiohttp<4.0.0,>=3.8.3->langchain) (1.3.3)\n",
      "Requirement already satisfied: multidict<7.0,>=4.5 in c:\\python38\\lib\\site-packages (from aiohttp<4.0.0,>=3.8.3->langchain) (6.0.4)\n",
      "Requirement already satisfied: async-timeout<5.0,>=4.0.0a3 in c:\\python38\\lib\\site-packages (from aiohttp<4.0.0,>=3.8.3->langchain) (4.0.2)\n",
      "Requirement already satisfied: aiosignal>=1.1.2 in c:\\python38\\lib\\site-packages (from aiohttp<4.0.0,>=3.8.3->langchain) (1.3.1)\n",
      "Requirement already satisfied: charset-normalizer<4.0,>=2.0 in c:\\python38\\lib\\site-packages (from aiohttp<4.0.0,>=3.8.3->langchain) (3.1.0)\n",
      "Requirement already satisfied: yarl<2.0,>=1.0 in c:\\python38\\lib\\site-packages (from aiohttp<4.0.0,>=3.8.3->langchain) (1.8.2)\n",
      "Requirement already satisfied: attrs>=17.3.0 in c:\\python38\\lib\\site-packages (from aiohttp<4.0.0,>=3.8.3->langchain) (22.2.0)\n",
      "Requirement already satisfied: marshmallow<4.0.0,>=3.3.0 in c:\\python38\\lib\\site-packages (from dataclasses-json<0.6.0,>=0.5.7->langchain) (3.19.0)\n",
      "Requirement already satisfied: typing-inspect>=0.4.0 in c:\\python38\\lib\\site-packages (from dataclasses-json<0.6.0,>=0.5.7->langchain) (0.8.0)\n",
      "Requirement already satisfied: marshmallow-enum<2.0.0,>=1.5.1 in c:\\python38\\lib\\site-packages (from dataclasses-json<0.6.0,>=0.5.7->langchain) (1.5.1)\n",
      "Requirement already satisfied: typing-extensions>=4.2.0 in c:\\python38\\lib\\site-packages (from pydantic<2,>=1->langchain) (4.5.0)\n",
      "Requirement already satisfied: idna<4,>=2.5 in c:\\python38\\lib\\site-packages (from requests<3,>=2->langchain) (3.4)\n",
      "Requirement already satisfied: urllib3<1.27,>=1.21.1 in c:\\python38\\lib\\site-packages (from requests<3,>=2->langchain) (1.26.15)\n",
      "Requirement already satisfied: certifi>=2017.4.17 in c:\\python38\\lib\\site-packages (from requests<3,>=2->langchain) (2022.12.7)\n",
      "Requirement already satisfied: greenlet!=0.4.17 in c:\\python38\\lib\\site-packages (from SQLAlchemy<2,>=1->langchain) (2.0.2)\n",
      "Requirement already satisfied: packaging>=17.0 in c:\\python38\\lib\\site-packages (from marshmallow<4.0.0,>=3.3.0->dataclasses-json<0.6.0,>=0.5.7->langchain) (23.0)\n",
      "Requirement already satisfied: mypy-extensions>=0.3.0 in c:\\python38\\lib\\site-packages (from typing-inspect>=0.4.0->dataclasses-json<0.6.0,>=0.5.7->langchain) (1.0.0)\n",
      "Requirement already satisfied: ipywidgets in c:\\python38\\lib\\site-packages (8.0.6)\n",
      "Requirement already satisfied: traitlets>=4.3.1 in c:\\python38\\lib\\site-packages (from ipywidgets) (5.9.0)\n",
      "Requirement already satisfied: ipykernel>=4.5.1 in c:\\python38\\lib\\site-packages (from ipywidgets) (6.22.0)\n",
      "Requirement already satisfied: jupyterlab-widgets~=3.0.7 in c:\\python38\\lib\\site-packages (from ipywidgets) (3.0.7)\n",
      "Requirement already satisfied: ipython>=6.1.0 in c:\\python38\\lib\\site-packages (from ipywidgets) (8.12.0)\n",
      "Requirement already satisfied: widgetsnbextension~=4.0.7 in c:\\python38\\lib\\site-packages (from ipywidgets) (4.0.7)\n",
      "Requirement already satisfied: comm>=0.1.1 in c:\\python38\\lib\\site-packages (from ipykernel>=4.5.1->ipywidgets) (0.1.3)\n",
      "Requirement already satisfied: jupyter-client>=6.1.12 in c:\\python38\\lib\\site-packages (from ipykernel>=4.5.1->ipywidgets) (8.1.0)\n",
      "Requirement already satisfied: matplotlib-inline>=0.1 in c:\\python38\\lib\\site-packages (from ipykernel>=4.5.1->ipywidgets) (0.1.6)\n",
      "Requirement already satisfied: packaging in c:\\python38\\lib\\site-packages (from ipykernel>=4.5.1->ipywidgets) (23.0)\n",
      "Requirement already satisfied: debugpy>=1.6.5 in c:\\python38\\lib\\site-packages (from ipykernel>=4.5.1->ipywidgets) (1.6.6)\n",
      "Requirement already satisfied: pyzmq>=20 in c:\\python38\\lib\\site-packages (from ipykernel>=4.5.1->ipywidgets) (25.0.2)\n",
      "Requirement already satisfied: tornado>=6.1 in c:\\python38\\lib\\site-packages (from ipykernel>=4.5.1->ipywidgets) (6.2)\n",
      "Requirement already satisfied: nest-asyncio in c:\\python38\\lib\\site-packages (from ipykernel>=4.5.1->ipywidgets) (1.5.6)\n",
      "Requirement already satisfied: psutil in c:\\python38\\lib\\site-packages (from ipykernel>=4.5.1->ipywidgets) (5.9.4)\n",
      "Requirement already satisfied: jupyter-core!=5.0.*,>=4.12 in c:\\python38\\lib\\site-packages (from ipykernel>=4.5.1->ipywidgets) (5.3.0)\n",
      "Requirement already satisfied: colorama in c:\\python38\\lib\\site-packages (from ipython>=6.1.0->ipywidgets) (0.4.6)\n",
      "Requirement already satisfied: decorator in c:\\python38\\lib\\site-packages (from ipython>=6.1.0->ipywidgets) (5.1.1)\n",
      "Requirement already satisfied: pygments>=2.4.0 in c:\\python38\\lib\\site-packages (from ipython>=6.1.0->ipywidgets) (2.14.0)\n",
      "Requirement already satisfied: backcall in c:\\python38\\lib\\site-packages (from ipython>=6.1.0->ipywidgets) (0.2.0)\n",
      "Requirement already satisfied: pickleshare in c:\\python38\\lib\\site-packages (from ipython>=6.1.0->ipywidgets) (0.7.5)\n",
      "Requirement already satisfied: typing-extensions in c:\\python38\\lib\\site-packages (from ipython>=6.1.0->ipywidgets) (4.5.0)\n",
      "Requirement already satisfied: jedi>=0.16 in c:\\python38\\lib\\site-packages (from ipython>=6.1.0->ipywidgets) (0.18.2)\n",
      "Requirement already satisfied: prompt-toolkit!=3.0.37,<3.1.0,>=3.0.30 in c:\\python38\\lib\\site-packages (from ipython>=6.1.0->ipywidgets) (3.0.38)\n",
      "Requirement already satisfied: stack-data in c:\\python38\\lib\\site-packages (from ipython>=6.1.0->ipywidgets) (0.6.2)\n",
      "Requirement already satisfied: parso<0.9.0,>=0.8.0 in c:\\python38\\lib\\site-packages (from jedi>=0.16->ipython>=6.1.0->ipywidgets) (0.8.3)\n",
      "Requirement already satisfied: importlib-metadata>=4.8.3 in c:\\python38\\lib\\site-packages (from jupyter-client>=6.1.12->ipykernel>=4.5.1->ipywidgets) (6.1.0)\n",
      "Requirement already satisfied: python-dateutil>=2.8.2 in c:\\python38\\lib\\site-packages (from jupyter-client>=6.1.12->ipykernel>=4.5.1->ipywidgets) (2.8.2)\n",
      "Requirement already satisfied: pywin32>=300 in c:\\python38\\lib\\site-packages (from jupyter-core!=5.0.*,>=4.12->ipykernel>=4.5.1->ipywidgets) (306)\n",
      "Requirement already satisfied: platformdirs>=2.5 in c:\\python38\\lib\\site-packages (from jupyter-core!=5.0.*,>=4.12->ipykernel>=4.5.1->ipywidgets) (3.2.0)\n",
      "Requirement already satisfied: wcwidth in c:\\python38\\lib\\site-packages (from prompt-toolkit!=3.0.37,<3.1.0,>=3.0.30->ipython>=6.1.0->ipywidgets) (0.2.6)\n",
      "Requirement already satisfied: asttokens>=2.1.0 in c:\\python38\\lib\\site-packages (from stack-data->ipython>=6.1.0->ipywidgets) (2.2.1)\n",
      "Requirement already satisfied: executing>=1.2.0 in c:\\python38\\lib\\site-packages (from stack-data->ipython>=6.1.0->ipywidgets) (1.2.0)\n",
      "Requirement already satisfied: pure-eval in c:\\python38\\lib\\site-packages (from stack-data->ipython>=6.1.0->ipywidgets) (0.2.2)\n",
      "Requirement already satisfied: six in c:\\python38\\lib\\site-packages (from asttokens>=2.1.0->stack-data->ipython>=6.1.0->ipywidgets) (1.15.0)\n",
      "Requirement already satisfied: zipp>=0.5 in c:\\python38\\lib\\site-packages (from importlib-metadata>=4.8.3->jupyter-client>=6.1.12->ipykernel>=4.5.1->ipywidgets) (3.15.0)\n",
      "Requirement already satisfied: openai in c:\\python38\\lib\\site-packages (0.27.2)\n",
      "Requirement already satisfied: requests>=2.20 in c:\\python38\\lib\\site-packages (from openai) (2.28.2)\n",
      "Requirement already satisfied: tqdm in c:\\python38\\lib\\site-packages (from openai) (4.65.0)\n",
      "Requirement already satisfied: aiohttp in c:\\python38\\lib\\site-packages (from openai) (3.8.4)\n",
      "Requirement already satisfied: charset-normalizer<4,>=2 in c:\\python38\\lib\\site-packages (from requests>=2.20->openai) (3.1.0)\n",
      "Requirement already satisfied: idna<4,>=2.5 in c:\\python38\\lib\\site-packages (from requests>=2.20->openai) (3.4)\n",
      "Requirement already satisfied: urllib3<1.27,>=1.21.1 in c:\\python38\\lib\\site-packages (from requests>=2.20->openai) (1.26.15)\n",
      "Requirement already satisfied: certifi>=2017.4.17 in c:\\python38\\lib\\site-packages (from requests>=2.20->openai) (2022.12.7)\n",
      "Requirement already satisfied: multidict<7.0,>=4.5 in c:\\python38\\lib\\site-packages (from aiohttp->openai) (6.0.4)\n",
      "Requirement already satisfied: frozenlist>=1.1.1 in c:\\python38\\lib\\site-packages (from aiohttp->openai) (1.3.3)\n",
      "Requirement already satisfied: async-timeout<5.0,>=4.0.0a3 in c:\\python38\\lib\\site-packages (from aiohttp->openai) (4.0.2)\n",
      "Requirement already satisfied: attrs>=17.3.0 in c:\\python38\\lib\\site-packages (from aiohttp->openai) (22.2.0)\n",
      "Requirement already satisfied: aiosignal>=1.1.2 in c:\\python38\\lib\\site-packages (from aiohttp->openai) (1.3.1)\n",
      "Requirement already satisfied: yarl<2.0,>=1.0 in c:\\python38\\lib\\site-packages (from aiohttp->openai) (1.8.2)\n",
      "Requirement already satisfied: colorama in c:\\python38\\lib\\site-packages (from tqdm->openai) (0.4.6)\n",
      "Requirement already satisfied: gpt_index in c:\\python38\\lib\\site-packages (0.5.5)\n",
      "Requirement already satisfied: tiktoken in c:\\python38\\lib\\site-packages (from gpt_index) (0.3.3)\n",
      "Requirement already satisfied: pandas in c:\\python38\\lib\\site-packages (from gpt_index) (1.5.3)\n",
      "Requirement already satisfied: dataclasses-json in c:\\python38\\lib\\site-packages (from gpt_index) (0.5.7)\n",
      "Requirement already satisfied: numpy in c:\\python38\\lib\\site-packages (from gpt_index) (1.24.2)\n",
      "Requirement already satisfied: tenacity<9.0.0,>=8.2.0 in c:\\python38\\lib\\site-packages (from gpt_index) (8.2.2)\n",
      "Requirement already satisfied: langchain in c:\\python38\\lib\\site-packages (from gpt_index) (0.0.129)\n",
      "Requirement already satisfied: openai>=0.26.4 in c:\\python38\\lib\\site-packages (from gpt_index) (0.27.2)\n",
      "Requirement already satisfied: aiohttp in c:\\python38\\lib\\site-packages (from openai>=0.26.4->gpt_index) (3.8.4)\n",
      "Requirement already satisfied: requests>=2.20 in c:\\python38\\lib\\site-packages (from openai>=0.26.4->gpt_index) (2.28.2)\n",
      "Requirement already satisfied: tqdm in c:\\python38\\lib\\site-packages (from openai>=0.26.4->gpt_index) (4.65.0)\n",
      "Requirement already satisfied: typing-inspect>=0.4.0 in c:\\python38\\lib\\site-packages (from dataclasses-json->gpt_index) (0.8.0)\n",
      "Requirement already satisfied: marshmallow<4.0.0,>=3.3.0 in c:\\python38\\lib\\site-packages (from dataclasses-json->gpt_index) (3.19.0)\n",
      "Requirement already satisfied: marshmallow-enum<2.0.0,>=1.5.1 in c:\\python38\\lib\\site-packages (from dataclasses-json->gpt_index) (1.5.1)\n",
      "Requirement already satisfied: PyYAML>=5.4.1 in c:\\python38\\lib\\site-packages (from langchain->gpt_index) (6.0)\n",
      "Requirement already satisfied: SQLAlchemy<2,>=1 in c:\\python38\\lib\\site-packages (from langchain->gpt_index) (1.4.47)\n",
      "Requirement already satisfied: pydantic<2,>=1 in c:\\python38\\lib\\site-packages (from langchain->gpt_index) (1.10.7)\n",
      "Requirement already satisfied: python-dateutil>=2.8.1 in c:\\python38\\lib\\site-packages (from pandas->gpt_index) (2.8.2)\n",
      "Requirement already satisfied: pytz>=2020.1 in c:\\python38\\lib\\site-packages (from pandas->gpt_index) (2023.3)\n",
      "Requirement already satisfied: regex>=2022.1.18 in c:\\python38\\lib\\site-packages (from tiktoken->gpt_index) (2023.3.23)\n",
      "Requirement already satisfied: charset-normalizer<4.0,>=2.0 in c:\\python38\\lib\\site-packages (from aiohttp->openai>=0.26.4->gpt_index) (3.1.0)\n",
      "Requirement already satisfied: multidict<7.0,>=4.5 in c:\\python38\\lib\\site-packages (from aiohttp->openai>=0.26.4->gpt_index) (6.0.4)\n",
      "Requirement already satisfied: attrs>=17.3.0 in c:\\python38\\lib\\site-packages (from aiohttp->openai>=0.26.4->gpt_index) (22.2.0)\n",
      "Requirement already satisfied: yarl<2.0,>=1.0 in c:\\python38\\lib\\site-packages (from aiohttp->openai>=0.26.4->gpt_index) (1.8.2)\n",
      "Requirement already satisfied: frozenlist>=1.1.1 in c:\\python38\\lib\\site-packages (from aiohttp->openai>=0.26.4->gpt_index) (1.3.3)\n",
      "Requirement already satisfied: async-timeout<5.0,>=4.0.0a3 in c:\\python38\\lib\\site-packages (from aiohttp->openai>=0.26.4->gpt_index) (4.0.2)\n",
      "Requirement already satisfied: aiosignal>=1.1.2 in c:\\python38\\lib\\site-packages (from aiohttp->openai>=0.26.4->gpt_index) (1.3.1)\n",
      "Requirement already satisfied: packaging>=17.0 in c:\\python38\\lib\\site-packages (from marshmallow<4.0.0,>=3.3.0->dataclasses-json->gpt_index) (23.0)\n",
      "Requirement already satisfied: typing-extensions>=4.2.0 in c:\\python38\\lib\\site-packages (from pydantic<2,>=1->langchain->gpt_index) (4.5.0)\n",
      "Requirement already satisfied: six>=1.5 in c:\\python38\\lib\\site-packages (from python-dateutil>=2.8.1->pandas->gpt_index) (1.15.0)\n",
      "Requirement already satisfied: idna<4,>=2.5 in c:\\python38\\lib\\site-packages (from requests>=2.20->openai>=0.26.4->gpt_index) (3.4)\n",
      "Requirement already satisfied: urllib3<1.27,>=1.21.1 in c:\\python38\\lib\\site-packages (from requests>=2.20->openai>=0.26.4->gpt_index) (1.26.15)\n",
      "Requirement already satisfied: certifi>=2017.4.17 in c:\\python38\\lib\\site-packages (from requests>=2.20->openai>=0.26.4->gpt_index) (2022.12.7)\n",
      "Requirement already satisfied: greenlet!=0.4.17 in c:\\python38\\lib\\site-packages (from SQLAlchemy<2,>=1->langchain->gpt_index) (2.0.2)\n",
      "Requirement already satisfied: mypy-extensions>=0.3.0 in c:\\python38\\lib\\site-packages (from typing-inspect>=0.4.0->dataclasses-json->gpt_index) (1.0.0)\n",
      "Requirement already satisfied: colorama in c:\\python38\\lib\\site-packages (from tqdm->openai>=0.26.4->gpt_index) (0.4.6)\n"
     ]
    }
   ],
   "source": [
    "!pip install llama_index\n",
    "!pip install langchain\n",
    "!pip install ipywidgets\n",
    "!pip install openai\n",
    "!pip install gpt_index"
   ]
  },
  {
   "cell_type": "code",
   "execution_count": 3,
   "id": "ec6395b7",
   "metadata": {
    "tags": []
   },
   "outputs": [],
   "source": [
    "# change to use dotenv\n",
    "import os\n",
    "from dotenv import load_dotenv\n",
    "# load from hidden .env file in local workspace\n",
    "load_dotenv()\n",
    "\n",
    "secret_key = os.environ['OPENAI_API_KEY']\n",
    "#print(secret_key)\n"
   ]
  },
  {
   "cell_type": "markdown",
   "id": "3713a993-46a3-456d-83d7-a6554afc97f2",
   "metadata": {},
   "source": [
    "## PDF Example"
   ]
  },
  {
   "cell_type": "code",
   "execution_count": 4,
   "id": "4402b4a2-809e-4889-bbd0-79d2f7dc7f2e",
   "metadata": {
    "tags": []
   },
   "outputs": [
    {
     "name": "stderr",
     "output_type": "stream",
     "text": [
      "None of PyTorch, TensorFlow >= 2.0, or Flax have been found. Models won't be available and only tokenizers, configuration and file/data utilities can be used.\n",
      "Token indices sequence length is longer than the specified maximum sequence length for this model (3552 > 1024). Running this sequence through the model will result in indexing errors\n",
      "INFO:llama_index.token_counter.token_counter:> [build_index_from_nodes] Total LLM token usage: 0 tokens\n",
      "INFO:llama_index.token_counter.token_counter:> [build_index_from_nodes] Total embedding token usage: 5899 tokens\n"
     ]
    }
   ],
   "source": [
    "from llama_index import GPTSimpleVectorIndex\n",
    "from pathlib import Path\n",
    "from gpt_index import download_loader\n",
    "\n",
    "PDFReader = download_loader(\"PDFReader\")\n",
    "\n",
    "loader = PDFReader()\n",
    "documents = loader.load_data(file=Path('./data/bitcoin.pdf'))\n",
    "pdf_index = GPTSimpleVectorIndex.from_documents(documents)\n",
    "pdf_index.save_to_disk('data/pdf_index.json')"
   ]
  },
  {
   "cell_type": "code",
   "execution_count": null,
   "id": "a3dc9c06-ce03-429b-ad9d-84bf2f9eb53e",
   "metadata": {
    "tags": []
   },
   "outputs": [],
   "source": [
    "response = pdf_index.query(\"What is Bitcoin?\")\n",
    "print(response)"
   ]
  },
  {
   "cell_type": "markdown",
   "id": "6525a912-59cf-412f-91ae-746ae825b7e7",
   "metadata": {},
   "source": [
    "## Wikipedia Example"
   ]
  },
  {
   "cell_type": "code",
   "execution_count": 5,
   "id": "4db9772b",
   "metadata": {},
   "outputs": [
    {
     "name": "stderr",
     "output_type": "stream",
     "text": [
      "INFO:llama_index.token_counter.token_counter:> [build_index_from_nodes] Total LLM token usage: 0 tokens\n",
      "INFO:llama_index.token_counter.token_counter:> [build_index_from_nodes] Total embedding token usage: 12853 tokens\n"
     ]
    }
   ],
   "source": [
    "from llama_index import download_loader\n",
    "from llama_index.node_parser import SimpleNodeParser\n",
    "\n",
    "WikipediaReader = download_loader(\"WikipediaReader\")\n",
    "\n",
    "loader = WikipediaReader()\n",
    "wikidocs = loader.load_data(pages=['Bitcoin'])\n",
    "parser = SimpleNodeParser()\n",
    "\n",
    "#wiki_btc_index = GPTSimpleVectorIndex.from_documents(wikidocs)\n",
    "nodes = parser.get_nodes_from_documents(wikidocs)\n",
    "wiki_index = GPTSimpleVectorIndex(nodes)\n",
    "wiki_index.save_to_disk('data/wiki_index.json')"
   ]
  },
  {
   "cell_type": "code",
   "execution_count": null,
   "id": "e4a4dd03",
   "metadata": {},
   "outputs": [],
   "source": [
    "response = wiki_index.query(\"What is a Bitcoin transaction?\")\n",
    "print(response)"
   ]
  },
  {
   "cell_type": "markdown",
   "id": "ce64325e-db28-464a-b3bc-ebfb4da78a32",
   "metadata": {},
   "source": [
    "# Setup Custom LLM"
   ]
  },
  {
   "cell_type": "code",
   "execution_count": 6,
   "id": "c726dc51",
   "metadata": {},
   "outputs": [
    {
     "name": "stderr",
     "output_type": "stream",
     "text": [
      "INFO:llama_index.token_counter.token_counter:> [build_index_from_nodes] Total LLM token usage: 0 tokens\n",
      "INFO:llama_index.token_counter.token_counter:> [build_index_from_nodes] Total embedding token usage: 12853 tokens\n"
     ]
    }
   ],
   "source": [
    "\n",
    "from llama_index import LLMPredictor, GPTSimpleVectorIndex, PromptHelper, ServiceContext\n",
    "from langchain import OpenAI\n",
    "\n",
    "# set maximum input size\n",
    "max_input_size = 4096\n",
    "# set number of output tokens\n",
    "num_output = 256\n",
    "# set maximum chunk overlap\n",
    "max_chunk_overlap = 20\n",
    "\n",
    "llm_predictor = LLMPredictor(llm=OpenAI(temperature=0.1, model_name=\"text-davinci-003\"))\n",
    "prompt_helper = PromptHelper(max_input_size, num_output, max_chunk_overlap)\n",
    "service_context = ServiceContext.from_defaults(llm_predictor=llm_predictor, prompt_helper=prompt_helper)\n",
    "\n",
    "custom_LLM_index = GPTSimpleVectorIndex(nodes, service_context=service_context)\n",
    "custom_LLM_index.save_to_disk('data/custom_LLM_index.json')"
   ]
  },
  {
   "cell_type": "code",
   "execution_count": null,
   "id": "f359b0c4",
   "metadata": {},
   "outputs": [],
   "source": [
    "response = custom_LLM_index.query(\"What is block height?\")\n",
    "print(response)"
   ]
  },
  {
   "cell_type": "markdown",
   "id": "993543c8-2808-46e3-a1f3-138348851d50",
   "metadata": {},
   "source": [
    "## YouTube Index"
   ]
  },
  {
   "cell_type": "code",
   "execution_count": 7,
   "id": "89160742",
   "metadata": {},
   "outputs": [
    {
     "name": "stderr",
     "output_type": "stream",
     "text": [
      "INFO:llama_index.token_counter.token_counter:> [build_index_from_nodes] Total LLM token usage: 0 tokens\n",
      "INFO:llama_index.token_counter.token_counter:> [build_index_from_nodes] Total embedding token usage: 1824 tokens\n"
     ]
    }
   ],
   "source": [
    "YoutubeTranscriptReader = download_loader(\"YoutubeTranscriptReader\")\n",
    "\n",
    "loader = YoutubeTranscriptReader()\n",
    "yt_docs = loader.load_data(ytlinks=['https://www.youtube.com/watch?v=KeTaO-i49kw&ab_channel=TraderUniversity'])\n",
    "yt_index = GPTSimpleVectorIndex.from_documents(yt_docs)\n",
    "yt_index.save_to_disk('data/yt_index.json')"
   ]
  },
  {
   "cell_type": "code",
   "execution_count": null,
   "id": "194e88fe",
   "metadata": {
    "scrolled": true
   },
   "outputs": [],
   "source": [
    "response = yt_index.query(\"What is the Byzantine Generals problem?\")\n",
    "print(response)"
   ]
  },
  {
   "cell_type": "markdown",
   "id": "359a05da",
   "metadata": {},
   "source": [
    "# Chatbot Class - Just include your index"
   ]
  },
  {
   "cell_type": "code",
   "execution_count": 8,
   "id": "98df5bf6",
   "metadata": {
    "tags": []
   },
   "outputs": [
    {
     "name": "stderr",
     "output_type": "stream",
     "text": [
      "INFO:llama_index.token_counter.token_counter:> [build_index_from_nodes] Total LLM token usage: 0 tokens\n",
      "INFO:llama_index.token_counter.token_counter:> [build_index_from_nodes] Total embedding token usage: 447047 tokens\n"
     ]
    }
   ],
   "source": [
    "# Create an index of your documents, this takes up to 60 seconds to load\n",
    "\n",
    "from llama_index import GPTSimpleVectorIndex, SimpleDirectoryReader\n",
    "documents = SimpleDirectoryReader('data').load_data()\n",
    "index = GPTSimpleVectorIndex.from_documents(documents)\n",
    "\n",
    "## We dont save the master index\n",
    "#index.save_to_disk('index.json')"
   ]
  },
  {
   "cell_type": "code",
   "execution_count": 9,
   "id": "65a0e830",
   "metadata": {},
   "outputs": [],
   "source": [
    "import openai\n",
    "import json\n",
    "\n",
    "class Chatbot:\n",
    "    def __init__(self, api_key, index):\n",
    "        self.index = index\n",
    "        openai.api_key = api_key\n",
    "        self.chat_history = []\n",
    "\n",
    "    def generate_response(self, user_input):\n",
    "        prompt = \"\\n\".join([f\"{message['role']}: {message['content']}\" for message in self.chat_history[-5:]])\n",
    "        prompt += f\"\\nUser: {user_input}\"\n",
    "        response = index.query(user_input)\n",
    "\n",
    "        message = {\"role\": \"assistant\", \"content\": response.response}\n",
    "        self.chat_history.append({\"role\": \"user\", \"content\": user_input})\n",
    "        self.chat_history.append(message)\n",
    "        return message\n",
    "    \n",
    "    def load_chat_history(self, filename):\n",
    "        try:\n",
    "            with open(filename, 'r') as f:\n",
    "                self.chat_history = json.load(f)\n",
    "        except FileNotFoundError:\n",
    "            pass\n",
    "\n",
    "    def save_chat_history(self, filename):\n",
    "        with open(filename, 'w') as f:\n",
    "            json.dump(self.chat_history, f)\n"
   ]
  },
  {
   "cell_type": "code",
   "execution_count": null,
   "id": "24576df3",
   "metadata": {
    "tags": []
   },
   "outputs": [],
   "source": [
    "# Swap out your index below for whatever knowledge base you want\n",
    "\n",
    "bot = Chatbot(secret_key, index=index)\n",
    "bot.load_chat_history(\"chat_history.json\")\n",
    "\n",
    "while True:\n",
    "    user_input = input(\"You: \")\n",
    "    if user_input.lower() in [\"bye\", \"goodbye\"]:\n",
    "        print(\"Bot: Goodbye!\")\n",
    "        bot.save_chat_history(\"chat_history.json\")\n",
    "        break\n",
    "    response = bot.generate_response(user_input)\n",
    "    print(f\"Bot: {response['content']}\")"
   ]
  },
  {
   "cell_type": "code",
   "execution_count": null,
   "id": "98e5960a-281f-4289-aebc-6863b48f291e",
   "metadata": {},
   "outputs": [],
   "source": []
  }
 ],
 "metadata": {
  "kernelspec": {
   "display_name": "Python 3 (ipykernel)",
   "language": "python",
   "name": "python3"
  },
  "language_info": {
   "codemirror_mode": {
    "name": "ipython",
    "version": 3
   },
   "file_extension": ".py",
   "mimetype": "text/x-python",
   "name": "python",
   "nbconvert_exporter": "python",
   "pygments_lexer": "ipython3",
   "version": "3.8.6"
  }
 },
 "nbformat": 4,
 "nbformat_minor": 5
}
