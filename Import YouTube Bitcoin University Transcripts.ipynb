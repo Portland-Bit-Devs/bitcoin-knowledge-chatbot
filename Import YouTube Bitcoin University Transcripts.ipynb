{
 "cells": [
  {
   "cell_type": "markdown",
   "id": "427929e1-942e-40e8-8670-5d25c7062a75",
   "metadata": {
    "tags": []
   },
   "source": [
    "# Import: YouTube Bitcoin University Transcripts"
   ]
  },
  {
   "cell_type": "code",
   "execution_count": 8,
   "id": "04a956a2-9190-4804-9615-833798ae96e5",
   "metadata": {
    "tags": []
   },
   "outputs": [
    {
     "name": "stdout",
     "output_type": "stream",
     "text": [
      "Requirement already satisfied: llama_index in c:\\python38\\lib\\site-packages (0.5.5)\n",
      "Requirement already satisfied: tenacity<9.0.0,>=8.2.0 in c:\\python38\\lib\\site-packages (from llama_index) (8.2.2)\n",
      "Requirement already satisfied: openai>=0.26.4 in c:\\python38\\lib\\site-packages (from llama_index) (0.27.2)\n",
      "Requirement already satisfied: pandas in c:\\python38\\lib\\site-packages (from llama_index) (1.5.3)\n",
      "Requirement already satisfied: langchain in c:\\python38\\lib\\site-packages (from llama_index) (0.0.129)\n",
      "Requirement already satisfied: transformers in c:\\python38\\lib\\site-packages (from llama_index) (4.27.4)\n",
      "Requirement already satisfied: numpy in c:\\python38\\lib\\site-packages (from llama_index) (1.24.2)\n",
      "Requirement already satisfied: dataclasses-json in c:\\python38\\lib\\site-packages (from llama_index) (0.5.7)\n",
      "Requirement already satisfied: aiohttp in c:\\python38\\lib\\site-packages (from openai>=0.26.4->llama_index) (3.8.4)\n",
      "Requirement already satisfied: tqdm in c:\\python38\\lib\\site-packages (from openai>=0.26.4->llama_index) (4.65.0)\n",
      "Requirement already satisfied: requests>=2.20 in c:\\python38\\lib\\site-packages (from openai>=0.26.4->llama_index) (2.28.2)\n",
      "Requirement already satisfied: typing-inspect>=0.4.0 in c:\\python38\\lib\\site-packages (from dataclasses-json->llama_index) (0.8.0)\n",
      "Requirement already satisfied: marshmallow-enum<2.0.0,>=1.5.1 in c:\\python38\\lib\\site-packages (from dataclasses-json->llama_index) (1.5.1)\n",
      "Requirement already satisfied: marshmallow<4.0.0,>=3.3.0 in c:\\python38\\lib\\site-packages (from dataclasses-json->llama_index) (3.19.0)\n",
      "Requirement already satisfied: PyYAML>=5.4.1 in c:\\python38\\lib\\site-packages (from langchain->llama_index) (6.0)\n",
      "Requirement already satisfied: SQLAlchemy<2,>=1 in c:\\python38\\lib\\site-packages (from langchain->llama_index) (1.4.47)\n",
      "Requirement already satisfied: pydantic<2,>=1 in c:\\python38\\lib\\site-packages (from langchain->llama_index) (1.10.7)\n",
      "Requirement already satisfied: python-dateutil>=2.8.1 in c:\\python38\\lib\\site-packages (from pandas->llama_index) (2.8.2)\n",
      "Requirement already satisfied: pytz>=2020.1 in c:\\python38\\lib\\site-packages (from pandas->llama_index) (2023.3)\n",
      "Requirement already satisfied: tokenizers!=0.11.3,<0.14,>=0.11.1 in c:\\python38\\lib\\site-packages (from transformers->llama_index) (0.13.2)\n",
      "Requirement already satisfied: regex!=2019.12.17 in c:\\python38\\lib\\site-packages (from transformers->llama_index) (2023.3.23)\n",
      "Requirement already satisfied: huggingface-hub<1.0,>=0.11.0 in c:\\python38\\lib\\site-packages (from transformers->llama_index) (0.13.3)\n",
      "Requirement already satisfied: packaging>=20.0 in c:\\python38\\lib\\site-packages (from transformers->llama_index) (23.0)\n",
      "Requirement already satisfied: filelock in c:\\python38\\lib\\site-packages (from transformers->llama_index) (3.0.12)\n",
      "Requirement already satisfied: frozenlist>=1.1.1 in c:\\python38\\lib\\site-packages (from aiohttp->openai>=0.26.4->llama_index) (1.3.3)\n",
      "Requirement already satisfied: attrs>=17.3.0 in c:\\python38\\lib\\site-packages (from aiohttp->openai>=0.26.4->llama_index) (22.2.0)\n",
      "Requirement already satisfied: charset-normalizer<4.0,>=2.0 in c:\\python38\\lib\\site-packages (from aiohttp->openai>=0.26.4->llama_index) (3.1.0)\n",
      "Requirement already satisfied: yarl<2.0,>=1.0 in c:\\python38\\lib\\site-packages (from aiohttp->openai>=0.26.4->llama_index) (1.8.2)\n",
      "Requirement already satisfied: multidict<7.0,>=4.5 in c:\\python38\\lib\\site-packages (from aiohttp->openai>=0.26.4->llama_index) (6.0.4)\n",
      "Requirement already satisfied: async-timeout<5.0,>=4.0.0a3 in c:\\python38\\lib\\site-packages (from aiohttp->openai>=0.26.4->llama_index) (4.0.2)\n",
      "Requirement already satisfied: aiosignal>=1.1.2 in c:\\python38\\lib\\site-packages (from aiohttp->openai>=0.26.4->llama_index) (1.3.1)\n",
      "Requirement already satisfied: typing-extensions>=3.7.4.3 in c:\\python38\\lib\\site-packages (from huggingface-hub<1.0,>=0.11.0->transformers->llama_index) (4.5.0)\n",
      "Requirement already satisfied: six>=1.5 in c:\\python38\\lib\\site-packages (from python-dateutil>=2.8.1->pandas->llama_index) (1.15.0)\n",
      "Requirement already satisfied: urllib3<1.27,>=1.21.1 in c:\\python38\\lib\\site-packages (from requests>=2.20->openai>=0.26.4->llama_index) (1.26.15)\n",
      "Requirement already satisfied: idna<4,>=2.5 in c:\\python38\\lib\\site-packages (from requests>=2.20->openai>=0.26.4->llama_index) (3.4)\n",
      "Requirement already satisfied: certifi>=2017.4.17 in c:\\python38\\lib\\site-packages (from requests>=2.20->openai>=0.26.4->llama_index) (2022.12.7)\n",
      "Requirement already satisfied: greenlet!=0.4.17 in c:\\python38\\lib\\site-packages (from SQLAlchemy<2,>=1->langchain->llama_index) (2.0.2)\n",
      "Requirement already satisfied: colorama in c:\\python38\\lib\\site-packages (from tqdm->openai>=0.26.4->llama_index) (0.4.6)\n",
      "Requirement already satisfied: mypy-extensions>=0.3.0 in c:\\python38\\lib\\site-packages (from typing-inspect>=0.4.0->dataclasses-json->llama_index) (1.0.0)\n",
      "Requirement already satisfied: langchain in c:\\python38\\lib\\site-packages (0.0.129)\n",
      "Requirement already satisfied: aiohttp<4.0.0,>=3.8.3 in c:\\python38\\lib\\site-packages (from langchain) (3.8.4)\n",
      "Requirement already satisfied: numpy<2,>=1 in c:\\python38\\lib\\site-packages (from langchain) (1.24.2)\n",
      "Requirement already satisfied: tenacity<9.0.0,>=8.1.0 in c:\\python38\\lib\\site-packages (from langchain) (8.2.2)\n",
      "Requirement already satisfied: PyYAML>=5.4.1 in c:\\python38\\lib\\site-packages (from langchain) (6.0)\n",
      "Requirement already satisfied: requests<3,>=2 in c:\\python38\\lib\\site-packages (from langchain) (2.28.2)\n",
      "Requirement already satisfied: dataclasses-json<0.6.0,>=0.5.7 in c:\\python38\\lib\\site-packages (from langchain) (0.5.7)\n",
      "Requirement already satisfied: pydantic<2,>=1 in c:\\python38\\lib\\site-packages (from langchain) (1.10.7)\n",
      "Requirement already satisfied: SQLAlchemy<2,>=1 in c:\\python38\\lib\\site-packages (from langchain) (1.4.47)\n",
      "Requirement already satisfied: multidict<7.0,>=4.5 in c:\\python38\\lib\\site-packages (from aiohttp<4.0.0,>=3.8.3->langchain) (6.0.4)\n",
      "Requirement already satisfied: charset-normalizer<4.0,>=2.0 in c:\\python38\\lib\\site-packages (from aiohttp<4.0.0,>=3.8.3->langchain) (3.1.0)\n",
      "Requirement already satisfied: async-timeout<5.0,>=4.0.0a3 in c:\\python38\\lib\\site-packages (from aiohttp<4.0.0,>=3.8.3->langchain) (4.0.2)\n",
      "Requirement already satisfied: attrs>=17.3.0 in c:\\python38\\lib\\site-packages (from aiohttp<4.0.0,>=3.8.3->langchain) (22.2.0)\n",
      "Requirement already satisfied: frozenlist>=1.1.1 in c:\\python38\\lib\\site-packages (from aiohttp<4.0.0,>=3.8.3->langchain) (1.3.3)\n",
      "Requirement already satisfied: aiosignal>=1.1.2 in c:\\python38\\lib\\site-packages (from aiohttp<4.0.0,>=3.8.3->langchain) (1.3.1)\n",
      "Requirement already satisfied: yarl<2.0,>=1.0 in c:\\python38\\lib\\site-packages (from aiohttp<4.0.0,>=3.8.3->langchain) (1.8.2)\n",
      "Requirement already satisfied: marshmallow-enum<2.0.0,>=1.5.1 in c:\\python38\\lib\\site-packages (from dataclasses-json<0.6.0,>=0.5.7->langchain) (1.5.1)\n",
      "Requirement already satisfied: marshmallow<4.0.0,>=3.3.0 in c:\\python38\\lib\\site-packages (from dataclasses-json<0.6.0,>=0.5.7->langchain) (3.19.0)\n",
      "Requirement already satisfied: typing-inspect>=0.4.0 in c:\\python38\\lib\\site-packages (from dataclasses-json<0.6.0,>=0.5.7->langchain) (0.8.0)\n",
      "Requirement already satisfied: typing-extensions>=4.2.0 in c:\\python38\\lib\\site-packages (from pydantic<2,>=1->langchain) (4.5.0)\n",
      "Requirement already satisfied: certifi>=2017.4.17 in c:\\python38\\lib\\site-packages (from requests<3,>=2->langchain) (2022.12.7)\n",
      "Requirement already satisfied: idna<4,>=2.5 in c:\\python38\\lib\\site-packages (from requests<3,>=2->langchain) (3.4)\n",
      "Requirement already satisfied: urllib3<1.27,>=1.21.1 in c:\\python38\\lib\\site-packages (from requests<3,>=2->langchain) (1.26.15)\n",
      "Requirement already satisfied: greenlet!=0.4.17 in c:\\python38\\lib\\site-packages (from SQLAlchemy<2,>=1->langchain) (2.0.2)\n",
      "Requirement already satisfied: packaging>=17.0 in c:\\python38\\lib\\site-packages (from marshmallow<4.0.0,>=3.3.0->dataclasses-json<0.6.0,>=0.5.7->langchain) (23.0)\n",
      "Requirement already satisfied: mypy-extensions>=0.3.0 in c:\\python38\\lib\\site-packages (from typing-inspect>=0.4.0->dataclasses-json<0.6.0,>=0.5.7->langchain) (1.0.0)\n",
      "Requirement already satisfied: ipywidgets in c:\\python38\\lib\\site-packages (8.0.6)\n",
      "Requirement already satisfied: ipykernel>=4.5.1 in c:\\python38\\lib\\site-packages (from ipywidgets) (6.22.0)\n",
      "Requirement already satisfied: widgetsnbextension~=4.0.7 in c:\\python38\\lib\\site-packages (from ipywidgets) (4.0.7)\n",
      "Requirement already satisfied: ipython>=6.1.0 in c:\\python38\\lib\\site-packages (from ipywidgets) (8.12.0)\n",
      "Requirement already satisfied: traitlets>=4.3.1 in c:\\python38\\lib\\site-packages (from ipywidgets) (5.9.0)\n",
      "Requirement already satisfied: jupyterlab-widgets~=3.0.7 in c:\\python38\\lib\\site-packages (from ipywidgets) (3.0.7)\n",
      "Requirement already satisfied: debugpy>=1.6.5 in c:\\python38\\lib\\site-packages (from ipykernel>=4.5.1->ipywidgets) (1.6.6)\n",
      "Requirement already satisfied: packaging in c:\\python38\\lib\\site-packages (from ipykernel>=4.5.1->ipywidgets) (23.0)\n",
      "Requirement already satisfied: matplotlib-inline>=0.1 in c:\\python38\\lib\\site-packages (from ipykernel>=4.5.1->ipywidgets) (0.1.6)\n",
      "Requirement already satisfied: nest-asyncio in c:\\python38\\lib\\site-packages (from ipykernel>=4.5.1->ipywidgets) (1.5.6)\n",
      "Requirement already satisfied: jupyter-core!=5.0.*,>=4.12 in c:\\python38\\lib\\site-packages (from ipykernel>=4.5.1->ipywidgets) (5.3.0)\n",
      "Requirement already satisfied: tornado>=6.1 in c:\\python38\\lib\\site-packages (from ipykernel>=4.5.1->ipywidgets) (6.2)\n",
      "Requirement already satisfied: psutil in c:\\python38\\lib\\site-packages (from ipykernel>=4.5.1->ipywidgets) (5.9.4)\n",
      "Requirement already satisfied: jupyter-client>=6.1.12 in c:\\python38\\lib\\site-packages (from ipykernel>=4.5.1->ipywidgets) (8.1.0)\n",
      "Requirement already satisfied: comm>=0.1.1 in c:\\python38\\lib\\site-packages (from ipykernel>=4.5.1->ipywidgets) (0.1.3)\n",
      "Requirement already satisfied: pyzmq>=20 in c:\\python38\\lib\\site-packages (from ipykernel>=4.5.1->ipywidgets) (25.0.2)\n",
      "Requirement already satisfied: prompt-toolkit!=3.0.37,<3.1.0,>=3.0.30 in c:\\python38\\lib\\site-packages (from ipython>=6.1.0->ipywidgets) (3.0.38)\n",
      "Requirement already satisfied: jedi>=0.16 in c:\\python38\\lib\\site-packages (from ipython>=6.1.0->ipywidgets) (0.18.2)\n",
      "Requirement already satisfied: pygments>=2.4.0 in c:\\python38\\lib\\site-packages (from ipython>=6.1.0->ipywidgets) (2.14.0)\n",
      "Requirement already satisfied: stack-data in c:\\python38\\lib\\site-packages (from ipython>=6.1.0->ipywidgets) (0.6.2)\n",
      "Requirement already satisfied: decorator in c:\\python38\\lib\\site-packages (from ipython>=6.1.0->ipywidgets) (5.1.1)\n",
      "Requirement already satisfied: backcall in c:\\python38\\lib\\site-packages (from ipython>=6.1.0->ipywidgets) (0.2.0)\n",
      "Requirement already satisfied: colorama in c:\\python38\\lib\\site-packages (from ipython>=6.1.0->ipywidgets) (0.4.6)\n",
      "Requirement already satisfied: pickleshare in c:\\python38\\lib\\site-packages (from ipython>=6.1.0->ipywidgets) (0.7.5)\n",
      "Requirement already satisfied: typing-extensions in c:\\python38\\lib\\site-packages (from ipython>=6.1.0->ipywidgets) (4.5.0)\n",
      "Requirement already satisfied: parso<0.9.0,>=0.8.0 in c:\\python38\\lib\\site-packages (from jedi>=0.16->ipython>=6.1.0->ipywidgets) (0.8.3)\n",
      "Requirement already satisfied: importlib-metadata>=4.8.3 in c:\\python38\\lib\\site-packages (from jupyter-client>=6.1.12->ipykernel>=4.5.1->ipywidgets) (6.1.0)\n",
      "Requirement already satisfied: python-dateutil>=2.8.2 in c:\\python38\\lib\\site-packages (from jupyter-client>=6.1.12->ipykernel>=4.5.1->ipywidgets) (2.8.2)\n",
      "Requirement already satisfied: platformdirs>=2.5 in c:\\python38\\lib\\site-packages (from jupyter-core!=5.0.*,>=4.12->ipykernel>=4.5.1->ipywidgets) (3.2.0)\n",
      "Requirement already satisfied: pywin32>=300 in c:\\python38\\lib\\site-packages (from jupyter-core!=5.0.*,>=4.12->ipykernel>=4.5.1->ipywidgets) (306)\n",
      "Requirement already satisfied: wcwidth in c:\\python38\\lib\\site-packages (from prompt-toolkit!=3.0.37,<3.1.0,>=3.0.30->ipython>=6.1.0->ipywidgets) (0.2.6)\n",
      "Requirement already satisfied: pure-eval in c:\\python38\\lib\\site-packages (from stack-data->ipython>=6.1.0->ipywidgets) (0.2.2)\n",
      "Requirement already satisfied: executing>=1.2.0 in c:\\python38\\lib\\site-packages (from stack-data->ipython>=6.1.0->ipywidgets) (1.2.0)\n",
      "Requirement already satisfied: asttokens>=2.1.0 in c:\\python38\\lib\\site-packages (from stack-data->ipython>=6.1.0->ipywidgets) (2.2.1)\n",
      "Requirement already satisfied: six in c:\\python38\\lib\\site-packages (from asttokens>=2.1.0->stack-data->ipython>=6.1.0->ipywidgets) (1.15.0)\n",
      "Requirement already satisfied: zipp>=0.5 in c:\\python38\\lib\\site-packages (from importlib-metadata>=4.8.3->jupyter-client>=6.1.12->ipykernel>=4.5.1->ipywidgets) (3.15.0)\n",
      "Requirement already satisfied: openai in c:\\python38\\lib\\site-packages (0.27.2)\n",
      "Requirement already satisfied: tqdm in c:\\python38\\lib\\site-packages (from openai) (4.65.0)\n",
      "Requirement already satisfied: requests>=2.20 in c:\\python38\\lib\\site-packages (from openai) (2.28.2)\n",
      "Requirement already satisfied: aiohttp in c:\\python38\\lib\\site-packages (from openai) (3.8.4)\n",
      "Requirement already satisfied: urllib3<1.27,>=1.21.1 in c:\\python38\\lib\\site-packages (from requests>=2.20->openai) (1.26.15)\n",
      "Requirement already satisfied: idna<4,>=2.5 in c:\\python38\\lib\\site-packages (from requests>=2.20->openai) (3.4)\n",
      "Requirement already satisfied: charset-normalizer<4,>=2 in c:\\python38\\lib\\site-packages (from requests>=2.20->openai) (3.1.0)\n",
      "Requirement already satisfied: certifi>=2017.4.17 in c:\\python38\\lib\\site-packages (from requests>=2.20->openai) (2022.12.7)\n",
      "Requirement already satisfied: attrs>=17.3.0 in c:\\python38\\lib\\site-packages (from aiohttp->openai) (22.2.0)\n",
      "Requirement already satisfied: multidict<7.0,>=4.5 in c:\\python38\\lib\\site-packages (from aiohttp->openai) (6.0.4)\n",
      "Requirement already satisfied: async-timeout<5.0,>=4.0.0a3 in c:\\python38\\lib\\site-packages (from aiohttp->openai) (4.0.2)\n",
      "Requirement already satisfied: frozenlist>=1.1.1 in c:\\python38\\lib\\site-packages (from aiohttp->openai) (1.3.3)\n",
      "Requirement already satisfied: yarl<2.0,>=1.0 in c:\\python38\\lib\\site-packages (from aiohttp->openai) (1.8.2)\n",
      "Requirement already satisfied: aiosignal>=1.1.2 in c:\\python38\\lib\\site-packages (from aiohttp->openai) (1.3.1)\n",
      "Requirement already satisfied: colorama in c:\\python38\\lib\\site-packages (from tqdm->openai) (0.4.6)\n",
      "Requirement already satisfied: gpt_index in c:\\python38\\lib\\site-packages (0.5.5)\n",
      "Requirement already satisfied: dataclasses-json in c:\\python38\\lib\\site-packages (from gpt_index) (0.5.7)\n",
      "Requirement already satisfied: numpy in c:\\python38\\lib\\site-packages (from gpt_index) (1.24.2)\n",
      "Requirement already satisfied: pandas in c:\\python38\\lib\\site-packages (from gpt_index) (1.5.3)\n",
      "Requirement already satisfied: tiktoken in c:\\python38\\lib\\site-packages (from gpt_index) (0.3.3)\n",
      "Requirement already satisfied: langchain in c:\\python38\\lib\\site-packages (from gpt_index) (0.0.129)\n",
      "Requirement already satisfied: tenacity<9.0.0,>=8.2.0 in c:\\python38\\lib\\site-packages (from gpt_index) (8.2.2)\n",
      "Requirement already satisfied: openai>=0.26.4 in c:\\python38\\lib\\site-packages (from gpt_index) (0.27.2)\n",
      "Requirement already satisfied: requests>=2.20 in c:\\python38\\lib\\site-packages (from openai>=0.26.4->gpt_index) (2.28.2)\n",
      "Requirement already satisfied: tqdm in c:\\python38\\lib\\site-packages (from openai>=0.26.4->gpt_index) (4.65.0)\n",
      "Requirement already satisfied: aiohttp in c:\\python38\\lib\\site-packages (from openai>=0.26.4->gpt_index) (3.8.4)\n",
      "Requirement already satisfied: marshmallow-enum<2.0.0,>=1.5.1 in c:\\python38\\lib\\site-packages (from dataclasses-json->gpt_index) (1.5.1)\n",
      "Requirement already satisfied: typing-inspect>=0.4.0 in c:\\python38\\lib\\site-packages (from dataclasses-json->gpt_index) (0.8.0)\n",
      "Requirement already satisfied: marshmallow<4.0.0,>=3.3.0 in c:\\python38\\lib\\site-packages (from dataclasses-json->gpt_index) (3.19.0)\n",
      "Requirement already satisfied: SQLAlchemy<2,>=1 in c:\\python38\\lib\\site-packages (from langchain->gpt_index) (1.4.47)\n",
      "Requirement already satisfied: PyYAML>=5.4.1 in c:\\python38\\lib\\site-packages (from langchain->gpt_index) (6.0)\n",
      "Requirement already satisfied: pydantic<2,>=1 in c:\\python38\\lib\\site-packages (from langchain->gpt_index) (1.10.7)\n",
      "Requirement already satisfied: python-dateutil>=2.8.1 in c:\\python38\\lib\\site-packages (from pandas->gpt_index) (2.8.2)\n",
      "Requirement already satisfied: pytz>=2020.1 in c:\\python38\\lib\\site-packages (from pandas->gpt_index) (2023.3)\n",
      "Requirement already satisfied: regex>=2022.1.18 in c:\\python38\\lib\\site-packages (from tiktoken->gpt_index) (2023.3.23)\n",
      "Requirement already satisfied: frozenlist>=1.1.1 in c:\\python38\\lib\\site-packages (from aiohttp->openai>=0.26.4->gpt_index) (1.3.3)\n",
      "Requirement already satisfied: yarl<2.0,>=1.0 in c:\\python38\\lib\\site-packages (from aiohttp->openai>=0.26.4->gpt_index) (1.8.2)\n",
      "Requirement already satisfied: aiosignal>=1.1.2 in c:\\python38\\lib\\site-packages (from aiohttp->openai>=0.26.4->gpt_index) (1.3.1)\n",
      "Requirement already satisfied: attrs>=17.3.0 in c:\\python38\\lib\\site-packages (from aiohttp->openai>=0.26.4->gpt_index) (22.2.0)\n",
      "Requirement already satisfied: async-timeout<5.0,>=4.0.0a3 in c:\\python38\\lib\\site-packages (from aiohttp->openai>=0.26.4->gpt_index) (4.0.2)\n",
      "Requirement already satisfied: charset-normalizer<4.0,>=2.0 in c:\\python38\\lib\\site-packages (from aiohttp->openai>=0.26.4->gpt_index) (3.1.0)\n",
      "Requirement already satisfied: multidict<7.0,>=4.5 in c:\\python38\\lib\\site-packages (from aiohttp->openai>=0.26.4->gpt_index) (6.0.4)\n",
      "Requirement already satisfied: packaging>=17.0 in c:\\python38\\lib\\site-packages (from marshmallow<4.0.0,>=3.3.0->dataclasses-json->gpt_index) (23.0)\n",
      "Requirement already satisfied: typing-extensions>=4.2.0 in c:\\python38\\lib\\site-packages (from pydantic<2,>=1->langchain->gpt_index) (4.5.0)\n",
      "Requirement already satisfied: six>=1.5 in c:\\python38\\lib\\site-packages (from python-dateutil>=2.8.1->pandas->gpt_index) (1.15.0)\n",
      "Requirement already satisfied: urllib3<1.27,>=1.21.1 in c:\\python38\\lib\\site-packages (from requests>=2.20->openai>=0.26.4->gpt_index) (1.26.15)\n",
      "Requirement already satisfied: certifi>=2017.4.17 in c:\\python38\\lib\\site-packages (from requests>=2.20->openai>=0.26.4->gpt_index) (2022.12.7)\n",
      "Requirement already satisfied: idna<4,>=2.5 in c:\\python38\\lib\\site-packages (from requests>=2.20->openai>=0.26.4->gpt_index) (3.4)\n",
      "Requirement already satisfied: greenlet!=0.4.17 in c:\\python38\\lib\\site-packages (from SQLAlchemy<2,>=1->langchain->gpt_index) (2.0.2)\n",
      "Requirement already satisfied: mypy-extensions>=0.3.0 in c:\\python38\\lib\\site-packages (from typing-inspect>=0.4.0->dataclasses-json->gpt_index) (1.0.0)\n",
      "Requirement already satisfied: colorama in c:\\python38\\lib\\site-packages (from tqdm->openai>=0.26.4->gpt_index) (0.4.6)\n"
     ]
    }
   ],
   "source": [
    "!pip install llama_index\n",
    "!pip install langchain\n",
    "!pip install ipywidgets\n",
    "!pip install openai\n",
    "!pip install gpt_index"
   ]
  },
  {
   "cell_type": "code",
   "execution_count": 9,
   "id": "750b770b-53d9-4da6-8a7b-cccddbd9af90",
   "metadata": {},
   "outputs": [],
   "source": [
    "# change to use dotenv\n",
    "import os\n",
    "from dotenv import load_dotenv\n",
    "# load from hidden .env file in local workspace\n",
    "load_dotenv()\n",
    "\n",
    "secret_key = os.environ['OPENAI_API_KEY']\n",
    "#print(secret_key)"
   ]
  },
  {
   "cell_type": "code",
   "execution_count": 10,
   "id": "1f23fe3a-373a-4302-9aff-dce72cde33af",
   "metadata": {
    "tags": []
   },
   "outputs": [
    {
     "name": "stderr",
     "output_type": "stream",
     "text": [
      "INFO:llama_index.token_counter.token_counter:> [build_index_from_nodes] Total LLM token usage: 0 tokens\n",
      "INFO:llama_index.token_counter.token_counter:> [build_index_from_nodes] Total embedding token usage: 1824 tokens\n"
     ]
    }
   ],
   "source": [
    "from llama_index import download_loader, GPTSimpleVectorIndex\n",
    "from llama_index.node_parser import SimpleNodeParser\n",
    "\n",
    "YoutubeTranscriptReader = download_loader(\"YoutubeTranscriptReader\")\n",
    "\n",
    "loader = YoutubeTranscriptReader()\n",
    "# Did Satoshi Solve The Byzantine Generals Problem\n",
    "yt_docs = loader.load_data(ytlinks=['https://www.youtube.com/watch?v=KeTaO-i49kw&ab_channel=TraderUniversity'])\n",
    "yt_index = GPTSimpleVectorIndex.from_documents(yt_docs)\n",
    "yt_index.save_to_disk('data/yt_btc_u_byzantine_general_solver_index.json')"
   ]
  },
  {
   "cell_type": "code",
   "execution_count": 11,
   "id": "f52c688a-aa57-49df-b49d-4ce9d7f50161",
   "metadata": {},
   "outputs": [
    {
     "name": "stderr",
     "output_type": "stream",
     "text": [
      "INFO:llama_index.token_counter.token_counter:> [query] Total LLM token usage: 2071 tokens\n",
      "INFO:llama_index.token_counter.token_counter:> [query] Total embedding token usage: 12 tokens\n"
     ]
    },
    {
     "name": "stdout",
     "output_type": "stream",
     "text": [
      "\n",
      "The main points of the Byzantine Generals Problem are: \n",
      "1. How do independent parties who cannot trust each other come to an agreement or consensus without having to rely on a trusted third party? \n",
      "2. There is no generalized mathematical solution to the Byzantine Generals Problem. \n",
      "3. Satoshi created a practical workaround in the form of the Bitcoin Network. \n",
      "4. Bitcoin nodes do not trust anyone, instead they examine every single block and every single transaction for themselves in order to verify that the rules are being followed. \n",
      "5. The version of the blockchain that follows the consensus rules embedded in the software run by the nodes and the version of the blockchain that contains the most embedded proof of work is the correct and canonical version of the Bitcoin blockchain. \n",
      "6. Bitcoin is fault tolerant and is able to tolerate the faults of malicious actors. \n",
      "7. Bitcoin is a trustless system, meaning that users don't need to trust it or the network, instead they can verify everything for themselves.\n"
     ]
    }
   ],
   "source": [
    "response = yt_index.query(\"What are the main points of the Byzantine Generals Problem?\")\n",
    "print(response)"
   ]
  },
  {
   "cell_type": "code",
   "execution_count": null,
   "id": "a44dcd6b-dafc-4e68-a258-ddb3fd74cf7b",
   "metadata": {},
   "outputs": [],
   "source": []
  }
 ],
 "metadata": {
  "kernelspec": {
   "display_name": "Python 3 (ipykernel)",
   "language": "python",
   "name": "python3"
  },
  "language_info": {
   "codemirror_mode": {
    "name": "ipython",
    "version": 3
   },
   "file_extension": ".py",
   "mimetype": "text/x-python",
   "name": "python",
   "nbconvert_exporter": "python",
   "pygments_lexer": "ipython3",
   "version": "3.8.6"
  }
 },
 "nbformat": 4,
 "nbformat_minor": 5
}
